{
 "cells": [
  {
   "cell_type": "markdown",
   "id": "19ab913a",
   "metadata": {},
   "source": [
    "### Program to get the property data from Shobha properties and store in vector db."
   ]
  },
  {
   "cell_type": "code",
   "execution_count": 1,
   "id": "da2985b8",
   "metadata": {},
   "outputs": [],
   "source": [
    "import os\n",
    "from dotenv import load_dotenv\n",
    "load_dotenv()\n",
    "os.environ[\"GROQ_API_KEY\"]=os.getenv(\"GROQ_API_KEY\")"
   ]
  },
  {
   "cell_type": "code",
   "execution_count": 1,
   "id": "64c96f04",
   "metadata": {},
   "outputs": [
    {
     "name": "stderr",
     "output_type": "stream",
     "text": [
      "USER_AGENT environment variable not set, consider setting it to identify your requests.\n"
     ]
    }
   ],
   "source": [
    "from langchain_community.document_loaders import WebBaseLoader,TextLoader\n",
    "from langchain_community.vectorstores import Chroma\n",
    "from langchain_chroma import Chroma\n",
    "from langchain_openai import AzureOpenAIEmbeddings \n",
    "from langchain_text_splitters import RecursiveCharacterTextSplitter,TextSplitter\n",
    "import requests\n",
    "from bs4 import BeautifulSoup\n",
    "import re"
   ]
  },
  {
   "cell_type": "code",
   "execution_count": null,
   "id": "49b36ae7",
   "metadata": {},
   "outputs": [],
   "source": [
    "url=\"https://danubeproperties.com/sitemap/\"\n",
    "response = requests.get(url)\n",
    "soup=BeautifulSoup(response.text,\"html.parser\")\n",
    "def find_all_elements_by_porfolio(href):\n",
    "    return href and re.compile(\"portfolio\").search(href)\n",
    "\n",
    "links_1=[]\n",
    "latest_projects=soup.find_all(\"a\", attrs={\"href\": re.compile(\".com/portfolio\")})\n",
    "# print(latest_projects)\n",
    "for project in latest_projects:\n",
    "    links_1.append(project.attrs.get('href'))\n",
    "\n",
    "links_1"
   ]
  },
  {
   "cell_type": "code",
   "execution_count": null,
   "id": "16f60a97",
   "metadata": {},
   "outputs": [],
   "source": [
    "def find_all_elements_by_class(class_):\n",
    "        class_text='accordion-item'\n",
    "        return class_ and re.compile(class_text).search(class_)\n",
    "file = open(\"output.txt\", \"a\",encoding='utf-8')\n",
    "for url in links_1:\n",
    "    response = requests.get(url)\n",
    "    soup=BeautifulSoup(response.text,\"html.parser\")\n",
    "    faqs=soup.find_all('div',class_=find_all_elements_by_class)\n",
    "    for faq in faqs:\n",
    "         file.writelines(faq.button.text)\n",
    "         file.writelines(faq.div.text)"
   ]
  },
  {
   "cell_type": "code",
   "execution_count": null,
   "id": "4a08aee2",
   "metadata": {},
   "outputs": [],
   "source": [
    "text_loader = TextLoader(\"output.txt\",encoding=\"utf-8\")\n",
    "text_docs=text_loader.load()\n",
    "text_splitter = RecursiveCharacterTextSplitter(chunk_size=1000, chunk_overlap=100)\n",
    "doc_splits = text_splitter.split_documents(text_docs)\n",
    "\n",
    "## Add all these text to vectordb\n",
    "\n",
    "embedding=AzureOpenAIEmbeddings(api_key=os.getenv(\"AZURE_EMB_API_KEY\"),\n",
    "                                azure_endpoint=os.getenv(\"AZURE_EMB_ENDPOINT\"))\n",
    "vectorstoredb=Chroma.from_documents(\n",
    "    documents=doc_splits,\n",
    "    embedding=embedding,persist_directory=\"./databases/shobha_properties_chroma_db\")"
   ]
  }
 ],
 "metadata": {
  "kernelspec": {
   "display_name": "venv",
   "language": "python",
   "name": "python3"
  },
  "language_info": {
   "codemirror_mode": {
    "name": "ipython",
    "version": 3
   },
   "file_extension": ".py",
   "mimetype": "text/x-python",
   "name": "python",
   "nbconvert_exporter": "python",
   "pygments_lexer": "ipython3",
   "version": "3.13.5"
  }
 },
 "nbformat": 4,
 "nbformat_minor": 5
}
